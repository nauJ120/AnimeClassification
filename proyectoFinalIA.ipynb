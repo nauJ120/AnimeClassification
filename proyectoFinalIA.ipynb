{
 "cells": [
  {
   "cell_type": "code",
   "execution_count": 1,
   "id": "cb42c125-ec6f-4ab5-8981-12e5f6f14e21",
   "metadata": {},
   "outputs": [
    {
     "name": "stderr",
     "output_type": "stream",
     "text": [
      "C:\\Users\\DIGIFIX\\AppData\\Local\\Temp\\ipykernel_13916\\2008626586.py:6: DeprecationWarning: `import kerastuner` is deprecated, please use `import keras_tuner`.\n",
      "  import kerastuner as kt\n"
     ]
    }
   ],
   "source": [
    "import pandas as pd\n",
    "import numpy as np\n",
    "import tensorflow as tf\n",
    "from tensorflow import keras\n",
    "from keras import layers\n",
    "import kerastuner as kt\n",
    "from sklearn.metrics import f1_score\n",
    "from sklearn.metrics import accuracy_score, precision_score"
   ]
  },
  {
   "cell_type": "code",
   "execution_count": 2,
   "id": "6f9d17d0-ea8c-4225-a9b4-351dee7663d2",
   "metadata": {},
   "outputs": [],
   "source": [
    "train_DF = pd.read_csv(\"train2.csv\")\n",
    "val_DF = pd.read_csv(\"validation.csv\")\n",
    "test_DF = pd.read_csv(\"test.csv\")"
   ]
  },
  {
   "cell_type": "code",
   "execution_count": 3,
   "id": "ec6406cb-3a6d-4d8b-8cce-79c62798dea9",
   "metadata": {},
   "outputs": [],
   "source": [
    "def convert_to_float_list(s):\n",
    "    # Removemos los corchetes rectos (nose como más llamar a esas vainas)\n",
    "    clean_str = s.replace('[', '').replace(']', '').strip()\n",
    "    float_list = [float(x) for x in clean_str.split()]\n",
    "    return np.array(float_list)"
   ]
  },
  {
   "cell_type": "code",
   "execution_count": 4,
   "id": "725bb276-3c7f-4ffa-b9da-1f0011953059",
   "metadata": {},
   "outputs": [],
   "source": [
    "def getLabels(df, label_name):\n",
    "    y = df[label_name].copy()\n",
    "    return (y)"
   ]
  },
  {
   "cell_type": "code",
   "execution_count": 5,
   "id": "f54e4edc-f715-4e5a-bff3-9d0e4a7e7176",
   "metadata": {},
   "outputs": [],
   "source": [
    "test_DF['vectorized_favorite_genres'] = test_DF['vectorized_favorite_genres'].apply(convert_to_float_list)\n",
    "train_DF['vectorized_favorite_genres'] = train_DF['vectorized_favorite_genres'].apply(convert_to_float_list)\n",
    "val_DF['vectorized_favorite_genres'] = val_DF['vectorized_favorite_genres'].apply(convert_to_float_list)"
   ]
  },
  {
   "cell_type": "code",
   "execution_count": 6,
   "id": "c603acc8-cd64-4660-9240-e328130e6805",
   "metadata": {},
   "outputs": [],
   "source": [
    "test_DF['vectorized_anime_genres'] = test_DF['vectorized_anime_genres'].apply(convert_to_float_list)\n",
    "train_DF['vectorized_anime_genres'] = train_DF['vectorized_anime_genres'].apply(convert_to_float_list)\n",
    "val_DF['vectorized_anime_genres'] = val_DF['vectorized_anime_genres'].apply(convert_to_float_list)"
   ]
  },
  {
   "cell_type": "code",
   "execution_count": 7,
   "id": "09a5e9ba-ca79-4827-a268-20b4d4516cb0",
   "metadata": {},
   "outputs": [
    {
     "data": {
      "text/plain": [
       "array([[array([0., 0., 0., 0., 0., 1., 0., 1., 0., 0., 1., 0., 1., 0., 1., 1., 1.,\n",
       "               0., 1., 1., 1., 0., 0., 0., 0., 0., 0., 0., 0., 0., 0., 0., 0., 0.,\n",
       "               0., 1., 1., 0., 0., 0., 0., 0., 0.])                               ,\n",
       "        array([0., 0., 0., 0., 0., 0., 0., 0., 0., 0., 1., 0., 1., 0., 0., 0., 0.,\n",
       "               0., 0., 0., 0., 0., 0., 0., 0., 1., 0., 0., 0., 0., 0., 0., 0., 0.,\n",
       "               0., 0., 0., 0., 0., 0., 0., 0., 0.])                               ],\n",
       "       [array([0., 1., 1., 0., 0., 0., 0., 1., 1., 0., 1., 0., 1., 1., 1., 1., 0.,\n",
       "               1., 0., 0., 1., 0., 0., 0., 0., 1., 1., 0., 1., 0., 0., 0., 1., 0.,\n",
       "               0., 0., 0., 0., 0., 1., 0., 1., 0.])                               ,\n",
       "        array([0., 0., 0., 0., 0., 0., 0., 1., 1., 0., 0., 1., 0., 0., 1., 1., 0.,\n",
       "               0., 0., 0., 0., 0., 0., 0., 0., 0., 1., 0., 0., 0., 0., 0., 0., 0.,\n",
       "               0., 0., 0., 0., 0., 0., 0., 1., 0.])                               ],\n",
       "       [array([0., 0., 1., 0., 1., 1., 0., 1., 0., 0., 1., 0., 1., 0., 1., 1., 1.,\n",
       "               1., 0., 1., 1., 0., 0., 0., 0., 0., 1., 0., 0., 0., 0., 0., 1., 0.,\n",
       "               0., 1., 0., 0., 1., 0., 1., 1., 1.])                               ,\n",
       "        array([0., 0., 0., 0., 0., 0., 0., 1., 0., 0., 0., 0., 1., 0., 0., 0., 0.,\n",
       "               1., 0., 0., 1., 0., 0., 0., 0., 0., 0., 0., 1., 0., 0., 0., 0., 0.,\n",
       "               0., 0., 0., 0., 0., 0., 0., 0., 0.])                               ],\n",
       "       ...,\n",
       "       [array([0., 1., 0., 1., 0., 1., 0., 1., 0., 0., 1., 0., 1., 1., 1., 0., 0.,\n",
       "               1., 0., 0., 1., 0., 1., 0., 0., 1., 1., 1., 0., 1., 0., 0., 0., 0.,\n",
       "               0., 1., 0., 0., 0., 0., 0., 1., 1.])                               ,\n",
       "        array([0., 1., 0., 0., 0., 0., 0., 1., 0., 0., 1., 0., 0., 0., 0., 0., 0.,\n",
       "               0., 0., 0., 0., 0., 0., 0., 0., 0., 0., 0., 0., 0., 0., 0., 0., 0.,\n",
       "               0., 0., 0., 0., 0., 0., 0., 0., 1.])                               ],\n",
       "       [array([0., 0., 1., 1., 1., 1., 0., 1., 1., 0., 1., 0., 1., 0., 1., 1., 1.,\n",
       "               1., 0., 0., 0., 0., 1., 0., 0., 0., 1., 0., 1., 0., 0., 0., 1., 0.,\n",
       "               0., 1., 0., 0., 0., 0., 0., 1., 1.])                               ,\n",
       "        array([0., 0., 0., 0., 0., 0., 0., 1., 0., 0., 0., 0., 0., 1., 1., 0., 0.,\n",
       "               0., 0., 0., 0., 0., 0., 0., 0., 0., 0., 0., 0., 0., 0., 0., 0., 0.,\n",
       "               0., 0., 0., 0., 0., 0., 0., 1., 1.])                               ],\n",
       "       [array([0., 0., 0., 0., 1., 0., 1., 0., 0., 0., 1., 0., 1., 1., 1., 0., 0.,\n",
       "               1., 0., 0., 1., 0., 0., 0., 1., 1., 0., 0., 0., 0., 0., 0., 1., 0.,\n",
       "               0., 0., 0., 0., 1., 0., 0., 0., 1.])                               ,\n",
       "        array([0., 0., 0., 0., 0., 0., 0., 0., 0., 0., 0., 0., 0., 0., 0., 0., 0.,\n",
       "               0., 0., 0., 0., 0., 0., 0., 0., 0., 1., 0., 0., 0., 0., 0., 0., 0.,\n",
       "               0., 1., 0., 0., 0., 0., 0., 1., 0.])                               ]],\n",
       "      dtype=object)"
      ]
     },
     "execution_count": 7,
     "metadata": {},
     "output_type": "execute_result"
    }
   ],
   "source": [
    "testArray = test_DF[['vectorized_favorite_genres','vectorized_anime_genres']].values\n",
    "testArray.reshape(len(test_DF),2)\n",
    "trainArray = train_DF[['vectorized_favorite_genres','vectorized_anime_genres']].values\n",
    "trainArray.reshape(len(train_DF),2)\n",
    "valArray = val_DF[['vectorized_favorite_genres','vectorized_anime_genres']].values\n",
    "valArray.reshape(len(val_DF),2)"
   ]
  },
  {
   "cell_type": "code",
   "execution_count": 8,
   "id": "1237f3ea-07b6-406e-99e5-742b1ed1c189",
   "metadata": {},
   "outputs": [
    {
     "data": {
      "text/plain": [
       "(21858, 2)"
      ]
     },
     "execution_count": 8,
     "metadata": {},
     "output_type": "execute_result"
    }
   ],
   "source": [
    "testArray.shape"
   ]
  },
  {
   "cell_type": "code",
   "execution_count": 9,
   "id": "5235ec41-324d-4260-a082-bc4b6295fd39",
   "metadata": {},
   "outputs": [
    {
     "data": {
      "text/plain": [
       "(69945, 2)"
      ]
     },
     "execution_count": 9,
     "metadata": {},
     "output_type": "execute_result"
    }
   ],
   "source": [
    "trainArray.shape"
   ]
  },
  {
   "cell_type": "code",
   "execution_count": 10,
   "id": "78929837-4064-497f-b9c3-311d4fbb6d16",
   "metadata": {},
   "outputs": [
    {
     "data": {
      "text/plain": [
       "(17487, 2)"
      ]
     },
     "execution_count": 10,
     "metadata": {},
     "output_type": "execute_result"
    }
   ],
   "source": [
    "valArray.shape"
   ]
  },
  {
   "cell_type": "code",
   "execution_count": 11,
   "id": "493f497b-8a93-4268-a76b-95e39100aa2f",
   "metadata": {},
   "outputs": [],
   "source": [
    "testArray = np.array([np.concatenate(row) for row in testArray])\n",
    "trainArray = np.array([np.concatenate(row) for row in trainArray])\n",
    "valArray = np.array([np.concatenate(row) for row in valArray])"
   ]
  },
  {
   "cell_type": "code",
   "execution_count": 12,
   "id": "9fccdd73-2c74-4cb4-8e9d-9c989c84d9a3",
   "metadata": {},
   "outputs": [
    {
     "data": {
      "text/plain": [
       "array([[0., 0., 0., ..., 0., 0., 0.],\n",
       "       [0., 0., 0., ..., 0., 0., 0.],\n",
       "       [0., 0., 0., ..., 0., 0., 1.],\n",
       "       ...,\n",
       "       [0., 0., 1., ..., 0., 1., 1.],\n",
       "       [0., 0., 0., ..., 0., 0., 0.],\n",
       "       [0., 0., 1., ..., 0., 0., 0.]])"
      ]
     },
     "execution_count": 12,
     "metadata": {},
     "output_type": "execute_result"
    }
   ],
   "source": [
    "testArray"
   ]
  },
  {
   "cell_type": "code",
   "execution_count": 13,
   "id": "a8afa66a-66ff-458d-aff7-e5fffddc3fe9",
   "metadata": {},
   "outputs": [
    {
     "data": {
      "text/plain": [
       "(21858, 86)"
      ]
     },
     "execution_count": 13,
     "metadata": {},
     "output_type": "execute_result"
    }
   ],
   "source": [
    "testArray.shape"
   ]
  },
  {
   "cell_type": "code",
   "execution_count": 14,
   "id": "37911e1e-67e8-4720-a06d-fe098a993e5a",
   "metadata": {},
   "outputs": [
    {
     "data": {
      "text/plain": [
       "array([[0., 0., 1., ..., 0., 0., 0.],\n",
       "       [0., 0., 0., ..., 0., 0., 0.],\n",
       "       [0., 1., 0., ..., 0., 1., 0.],\n",
       "       ...,\n",
       "       [0., 0., 0., ..., 0., 1., 0.],\n",
       "       [0., 0., 0., ..., 0., 0., 1.],\n",
       "       [0., 1., 0., ..., 1., 1., 0.]])"
      ]
     },
     "execution_count": 14,
     "metadata": {},
     "output_type": "execute_result"
    }
   ],
   "source": [
    "trainArray"
   ]
  },
  {
   "cell_type": "code",
   "execution_count": 15,
   "id": "872e57c9-e237-4f4b-b03f-1dc702e11f05",
   "metadata": {},
   "outputs": [
    {
     "data": {
      "text/plain": [
       "(69945, 86)"
      ]
     },
     "execution_count": 15,
     "metadata": {},
     "output_type": "execute_result"
    }
   ],
   "source": [
    "trainArray.shape"
   ]
  },
  {
   "cell_type": "code",
   "execution_count": 16,
   "id": "ce7d359f-fdb8-434c-a01d-83b1594a0fb6",
   "metadata": {},
   "outputs": [
    {
     "data": {
      "text/plain": [
       "array([[0., 0., 0., ..., 0., 0., 0.],\n",
       "       [0., 1., 1., ..., 0., 1., 0.],\n",
       "       [0., 0., 1., ..., 0., 0., 0.],\n",
       "       ...,\n",
       "       [0., 1., 0., ..., 0., 0., 1.],\n",
       "       [0., 0., 1., ..., 0., 1., 1.],\n",
       "       [0., 0., 0., ..., 0., 1., 0.]])"
      ]
     },
     "execution_count": 16,
     "metadata": {},
     "output_type": "execute_result"
    }
   ],
   "source": [
    "valArray"
   ]
  },
  {
   "cell_type": "code",
   "execution_count": 17,
   "id": "0bcd8906-4144-4fe9-8ae3-3f20cc64595c",
   "metadata": {},
   "outputs": [
    {
     "data": {
      "text/plain": [
       "(17487, 86)"
      ]
     },
     "execution_count": 17,
     "metadata": {},
     "output_type": "execute_result"
    }
   ],
   "source": [
    "valArray.shape"
   ]
  },
  {
   "cell_type": "code",
   "execution_count": 18,
   "id": "6557b282-375f-4a2f-9342-704456332cbc",
   "metadata": {},
   "outputs": [
    {
     "data": {
      "text/plain": [
       "array([1, 1, 1, ..., 1, 1, 1], dtype=int64)"
      ]
     },
     "execution_count": 18,
     "metadata": {},
     "output_type": "execute_result"
    }
   ],
   "source": [
    "trainLabels = getLabels(train_DF,'opinion')\n",
    "trainLabels = trainLabels.values\n",
    "trainLabels = np.stack(trainLabels)\n",
    "trainLabels"
   ]
  },
  {
   "cell_type": "code",
   "execution_count": 19,
   "id": "cfe57378-0842-4e1d-a247-9081216efe2b",
   "metadata": {},
   "outputs": [
    {
     "data": {
      "text/plain": [
       "array([0, 1, 1, ..., 1, 1, 1], dtype=int64)"
      ]
     },
     "execution_count": 19,
     "metadata": {},
     "output_type": "execute_result"
    }
   ],
   "source": [
    "testLabels = getLabels(test_DF,'opinion')\n",
    "testLabels = testLabels.values\n",
    "testLabels = np.stack(testLabels)\n",
    "testLabels"
   ]
  },
  {
   "cell_type": "code",
   "execution_count": 20,
   "id": "7d81bb71-90ae-4a39-ad50-25b89eb379c6",
   "metadata": {},
   "outputs": [
    {
     "data": {
      "text/plain": [
       "array([1, 0, 0, ..., 1, 1, 1], dtype=int64)"
      ]
     },
     "execution_count": 20,
     "metadata": {},
     "output_type": "execute_result"
    }
   ],
   "source": [
    "valLabels = getLabels(val_DF,'opinion')\n",
    "valLabels = valLabels.values\n",
    "valLabels = np.stack(valLabels)\n",
    "valLabels"
   ]
  },
  {
   "cell_type": "code",
   "execution_count": 21,
   "id": "61b44df3-20b1-4ab8-8ac0-aa7cc4a2daaf",
   "metadata": {},
   "outputs": [
    {
     "name": "stdout",
     "output_type": "stream",
     "text": [
      "\n",
      "Test labels shape: (21858,)\n",
      "\n",
      "Train labels shape: (69945,)\n",
      "\n",
      "validation labels shape: (17487,)\n"
     ]
    }
   ],
   "source": [
    "print(\"\\nTest labels shape:\", testLabels.shape)\n",
    "print(\"\\nTrain labels shape:\", trainLabels.shape)\n",
    "print(\"\\nvalidation labels shape:\", valLabels.shape)"
   ]
  },
  {
   "cell_type": "code",
   "execution_count": 22,
   "id": "5385c00f-fef7-44c2-9836-b26f7a04ae4f",
   "metadata": {},
   "outputs": [],
   "source": [
    "def model_builder(hp):\n",
    "    # Defino el modelo\n",
    "    model = keras.Sequential()\n",
    "\n",
    "    # creamos la input layer\n",
    "    hp_units = hp.Int('units', min_value=32, max_value=512, step=32)\n",
    "    model.add(layers.Dense(units=hp_units, activation='relu'))\n",
    "    \n",
    "    # agregamos capas profundas, pues se recomienda tener almenos 1 capa profunda para que el modelo quede más mamado\n",
    "    num_layers = hp.Int(\"num_layers\", 1, 20)\n",
    "    for i in range(num_layers):\n",
    "        units = hp.Int(f\"units_{i}\", min_value=32, max_value=512, step=32)\n",
    "        activation = hp.Choice(f\"activation_{i}\", [\"relu\", \"tanh\"])\n",
    "        model.add(layers.Dense(units, activation=activation))\n",
    "    \n",
    "    # Output layer, predecirá si le gusta o no el anime sacando un boolean 0 o 1\n",
    "    model.add(layers.Dense(1, activation=\"sigmoid\"))\n",
    "    \n",
    "    # tuneamos el learning rate, en internet recomiendan que sean estos valores de 0.01 o 0.001 o 0.0001\n",
    "    hp_learning_rate = hp.Choice('learning_rate', values=[1e-2, 1e-3, 1e-4])\n",
    "    \n",
    "    # Compilamos el modelo y a rezar porque salga bien\n",
    "    model.compile(\n",
    "        optimizer=keras.optimizers.Adam(learning_rate=hp_learning_rate),\n",
    "        loss=keras.losses.BinaryCrossentropy(),\n",
    "        metrics=['accuracy']\n",
    "    )\n",
    "    \n",
    "    return model"
   ]
  },
  {
   "cell_type": "code",
   "execution_count": 23,
   "id": "e3c907cd-7e24-4abc-b935-77d9c018dc3a",
   "metadata": {
    "scrolled": true
   },
   "outputs": [],
   "source": [
    "#se pueden usar RandomSearch, BayesianOptimization o Hyperband de acuerdo a la documentación del hipertunner, investigando en internet, dicen que hyperband ahorra recursos pq detiene los modelos mas \"malitos\" temprano, por ende vamos a usar este para que no se explote ni se demore mucho el pc\n",
    "tuner = kt.Hyperband(\n",
    "    model_builder,\n",
    "    objective = 'val_accuracy', \n",
    "    max_epochs = 10,\n",
    "    factor = 3,\n",
    "    directory = '../AnimeClassification-main',\n",
    "    project_name = 'modelo_mamadisimo_y_tuneado'\n",
    ")"
   ]
  },
  {
   "cell_type": "code",
   "execution_count": 24,
   "id": "83d8857b-5cff-46ce-b6c1-d499875a2bbf",
   "metadata": {},
   "outputs": [
    {
     "name": "stdout",
     "output_type": "stream",
     "text": [
      "Trial 30 Complete [00h 08m 31s]\n",
      "val_accuracy: 0.7154457569122314\n",
      "\n",
      "Best val_accuracy So Far: 0.7352890968322754\n",
      "Total elapsed time: 01h 01m 44s\n"
     ]
    }
   ],
   "source": [
    "# Ejecución del tuner para la búsqueda de hiperparámetros\n",
    "tuner.search(\n",
    "    trainArray, \n",
    "    trainLabels, \n",
    "    epochs = 10, \n",
    "    validation_data = (valArray, valLabels)\n",
    ")"
   ]
  },
  {
   "cell_type": "code",
   "execution_count": 25,
   "id": "52c75327-1373-4cef-b281-76a0af77c170",
   "metadata": {},
   "outputs": [],
   "source": [
    "#sacamos el modelo mas mamado que haya\n",
    "bestModel = tuner.get_best_hyperparameters(num_trials=1)[0]"
   ]
  },
  {
   "cell_type": "code",
   "execution_count": 26,
   "id": "3ca3ca08-c699-4bb0-8331-6f6fda7b2aaf",
   "metadata": {},
   "outputs": [],
   "source": [
    "model = tuner.hypermodel.build(bestModel)"
   ]
  },
  {
   "cell_type": "code",
   "execution_count": 27,
   "id": "5c2163d6-9deb-4812-a973-6873949c812d",
   "metadata": {},
   "outputs": [
    {
     "name": "stdout",
     "output_type": "stream",
     "text": [
      "Epoch 1/3\n",
      "WARNING:tensorflow:From C:\\Users\\Jorge\\anaconda3\\envs\\deep_learning\\Lib\\site-packages\\keras\\src\\utils\\tf_utils.py:492: The name tf.ragged.RaggedTensorValue is deprecated. Please use tf.compat.v1.ragged.RaggedTensorValue instead.\n",
      "\n",
      "WARNING:tensorflow:From C:\\Users\\Jorge\\anaconda3\\envs\\deep_learning\\Lib\\site-packages\\keras\\src\\engine\\base_layer_utils.py:384: The name tf.executing_eagerly_outside_functions is deprecated. Please use tf.compat.v1.executing_eagerly_outside_functions instead.\n",
      "\n",
      "2186/2186 [==============================] - 9s 3ms/step - loss: 0.5700 - accuracy: 0.7197 - val_loss: 0.5578 - val_accuracy: 0.7287\n",
      "Epoch 2/3\n",
      "2186/2186 [==============================] - 7s 3ms/step - loss: 0.5513 - accuracy: 0.7268 - val_loss: 0.5502 - val_accuracy: 0.7325\n",
      "Epoch 3/3\n",
      "2186/2186 [==============================] - 7s 3ms/step - loss: 0.5376 - accuracy: 0.7354 - val_loss: 0.5466 - val_accuracy: 0.7332\n"
     ]
    }
   ],
   "source": [
    "trainedModel = model.fit(\n",
    "    trainArray,\n",
    "    trainLabels,\n",
    "    #se que parecen pocas epochs, pero luego de probar varias veces, 3 es en donde mejor sale\n",
    "    epochs = 3,\n",
    "    validation_data = (valArray, valLabels)\n",
    ")"
   ]
  },
  {
   "cell_type": "code",
   "execution_count": 27,
   "id": "38fead0b-d84a-4cfd-aaf5-339564a72727",
   "metadata": {},
   "outputs": [
    {
     "name": "stdout",
     "output_type": "stream",
     "text": [
      "\u001b[1m684/684\u001b[0m \u001b[32m━━━━━━━━━━━━━━━━━━━━\u001b[0m\u001b[37m\u001b[0m \u001b[1m2s\u001b[0m 2ms/step\n"
     ]
    }
   ],
   "source": [
    "#a probarlo con testArray\n",
    "opinionPrediction = model.predict(testArray).round(0)"
   ]
  },
  {
   "cell_type": "code",
   "execution_count": 28,
   "id": "2505a87c-1658-44a3-962b-f131f5402502",
   "metadata": {},
   "outputs": [
    {
     "data": {
      "text/plain": [
       "array([[1.],\n",
       "       [1.],\n",
       "       [1.],\n",
       "       ...,\n",
       "       [1.],\n",
       "       [1.],\n",
       "       [1.]], dtype=float32)"
      ]
     },
     "execution_count": 28,
     "metadata": {},
     "output_type": "execute_result"
    }
   ],
   "source": [
    "opinionPrediction"
   ]
  },
  {
   "cell_type": "code",
   "execution_count": 29,
   "id": "8efcfcac-4553-4e30-a676-6c6de7bb852a",
   "metadata": {},
   "outputs": [
    {
     "data": {
      "text/plain": [
       "array([0, 1, 1, ..., 1, 1, 1], dtype=int64)"
      ]
     },
     "execution_count": 29,
     "metadata": {},
     "output_type": "execute_result"
    }
   ],
   "source": [
    "testLabels"
   ]
  },
  {
   "cell_type": "code",
   "execution_count": 30,
   "id": "b5b57e99-27db-4497-ac0d-6eaf32da6526",
   "metadata": {},
   "outputs": [],
   "source": [
    "accuracy = accuracy_score(testLabels, opinionPrediction, normalize=True)\n",
    "precision = precision_score(testLabels, opinionPrediction, average='micro')"
   ]
  },
  {
   "cell_type": "code",
   "execution_count": 31,
   "id": "1314624d-dd1e-421a-afcd-e2dbe465bfa9",
   "metadata": {},
   "outputs": [
    {
     "name": "stdout",
     "output_type": "stream",
     "text": [
      "\n",
      "Accuracy: 0.693796321712874\n",
      "\n",
      "Precision: 0.693796321712874\n"
     ]
    }
   ],
   "source": [
    "print(\"\\nAccuracy:\",accuracy)\n",
    "print(\"\\nPrecision:\",precision)"
   ]
  },
  {
   "cell_type": "code",
   "execution_count": null,
   "id": "9a9622c8",
   "metadata": {},
   "outputs": [],
   "source": [
    "#Implementación de grafo\n"
   ]
  }
 ],
 "metadata": {
  "kernelspec": {
   "display_name": "Python 3 (ipykernel)",
   "language": "python",
   "name": "python3"
  },
  "language_info": {
   "codemirror_mode": {
    "name": "ipython",
    "version": 3
   },
   "file_extension": ".py",
   "mimetype": "text/x-python",
   "name": "python",
   "nbconvert_exporter": "python",
   "pygments_lexer": "ipython3",
   "version": "3.10.11"
  }
 },
 "nbformat": 4,
 "nbformat_minor": 5
}
